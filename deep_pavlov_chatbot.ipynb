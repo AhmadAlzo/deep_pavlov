{
  "nbformat": 4,
  "nbformat_minor": 0,
  "metadata": {
    "colab": {
      "provenance": []
    },
    "kernelspec": {
      "name": "python3",
      "display_name": "Python 3"
    },
    "language_info": {
      "name": "python"
    }
  },
  "cells": [
    {
      "cell_type": "code",
      "execution_count": null,
      "metadata": {
        "id": "Y5yGphUXRA9l"
      },
      "outputs": [],
      "source": [
        "!pip install deeppavlov\n",
        "!python -m deeppavlov install gobot_dstc2_minimal"
      ]
    },
    {
      "cell_type": "code",
      "source": [
        "from deeppavlov.dataset_readers.basic_classification_reader import BasicClassificationDatasetReader\n",
        "\n",
        "\n",
        "class AssistantDatasetReader(BasicClassificationDatasetReader):\n",
        "    \n",
        "    \n",
        "    @staticmethod\n",
        "    def _data_fname(datatype):\n",
        "        assert datatype in ('val', 'trn', 'tst'), \"wrong datatype name\"\n",
        "        return f\"assistant-{datatype}.json\""
      ],
      "metadata": {
        "id": "iX2qtCOvRNJd"
      },
      "execution_count": null,
      "outputs": []
    },
    {
      "cell_type": "code",
      "source": [
        "data = AssistantDatasetReader().read('assistant_data')"
      ],
      "metadata": {
        "id": "d2V_u09jReXD"
      },
      "execution_count": null,
      "outputs": []
    },
    {
      "cell_type": "code",
      "source": [
        "!ls assistant_data"
      ],
      "metadata": {
        "id": "gPXKo7nDTJc0"
      },
      "execution_count": null,
      "outputs": []
    },
    {
      "cell_type": "code",
      "source": [
        "!head -n 310 assistant_data/assistant-trn.json"
      ],
      "metadata": {
        "id": "H7v59oe-Rms9"
      },
      "execution_count": null,
      "outputs": []
    },
    {
      "cell_type": "code",
      "source": [
        "from deeppavlov.dataset_iterators.dialog_iterator import DialogDatasetIterator\n",
        "\n",
        "iterator = DialogDatasetIterator(data)"
      ],
      "metadata": {
        "id": "mjCi8jtQRqvj"
      },
      "execution_count": null,
      "outputs": []
    },
    {
      "cell_type": "code",
      "source": [
        "from pprint import pprint\n",
        "\n",
        "for dialog in iterator.gen_batches(batch_size=1, data_type='train'):\n",
        "    turns_x, turns_y = dialog\n",
        "    \n",
        "    print(\"User utterances:\\n----------------\\n\")\n",
        "    pprint(turns_x[0], indent=4)\n",
        "    print(\"\\nSystem responses:\\n-----------------\\n\")\n",
        "    pprint(turns_y[0], indent=4)\n",
        "    \n",
        "    break\n",
        "\n",
        "print(\"\\n-----------------\")    \n",
        "print(f\"{len(iterator.get_instances('train')[0])} dialog(s) in train.\")\n",
        "print(f\"{len(iterator.get_instances('valid')[0])} dialog(s) in valid.\")\n",
        "print(f\"{len(iterator.get_instances('test')[0])} dialog(s) in test.\")"
      ],
      "metadata": {
        "id": "-TLwCyYGRtGY"
      },
      "execution_count": null,
      "outputs": []
    },
    {
      "cell_type": "code",
      "source": [
        "!head -n 10 assistant_data/assistant-templates.txt"
      ],
      "metadata": {
        "id": "MYd9psKwRwo3"
      },
      "execution_count": null,
      "outputs": []
    },
    {
      "cell_type": "code",
      "source": [
        "!head -n 31 assistant_data/assistant-trn.json"
      ],
      "metadata": {
        "id": "NBGnGo6nRzwv"
      },
      "execution_count": null,
      "outputs": []
    },
    {
      "cell_type": "code",
      "source": [
        "from deeppavlov import configs\n",
        "from deeppavlov.core.common.file import read_json\n",
        "\n",
        "gobot_config = read_json(configs.go_bot.gobot_dstc2_minimal)"
      ],
      "metadata": {
        "id": "sqKpOGkSR2qY"
      },
      "execution_count": null,
      "outputs": []
    },
    {
      "cell_type": "code",
      "source": [
        "from deeppavlov.download import download_resource\n",
        "\n",
        "download_resource(url=\"http://files.deeppavlov.ai/embeddings/glove.6B.100d.txt\",\n",
        "                  dest_paths=['assistant_bot/'])"
      ],
      "metadata": {
        "id": "7JgII7HlR5Sn"
      },
      "execution_count": null,
      "outputs": []
    },
    {
      "cell_type": "code",
      "source": [
        "gobot_config['chainer']['pipe'][-1]['embedder'] = {\n",
        "    \"class_name\": \"glove\",\n",
        "    \"load_path\": \"assistant_bot/glove.6B.100d.txt\"\n",
        "}"
      ],
      "metadata": {
        "id": "sjShiLPIR7tJ"
      },
      "execution_count": null,
      "outputs": []
    },
    {
      "cell_type": "code",
      "source": [
        "gobot_config['chainer']['pipe'][-1]['nlg_manager']['template_path'] = 'assistant_data/assistant-templates.txt'\n",
        "gobot_config['chainer']['pipe'][-1]['nlg_manager']['api_call_action'] = None"
      ],
      "metadata": {
        "id": "a9obmGIOSN-x"
      },
      "execution_count": null,
      "outputs": []
    },
    {
      "cell_type": "code",
      "source": [
        "gobot_config['dataset_reader']['class_name'] = '__main__:AssistantDatasetReader'\n",
        "gobot_config['metadata']['variables']['DATA_PATH'] = 'assistant_data'\n",
        "\n",
        "gobot_config['metadata']['variables']['MODEL_PATH'] = 'assistant_bot'"
      ],
      "metadata": {
        "id": "GGNCCOoRSP4_"
      },
      "execution_count": null,
      "outputs": []
    },
    {
      "cell_type": "code",
      "source": [
        "from deeppavlov import train_model\n",
        "\n",
        "gobot_config['train']['batch_size'] = 4 # set batch size\n",
        "gobot_config['train']['max_batches'] = 30 # maximum number of training batches\n",
        "gobot_config['train']['val_every_n_batches'] = 30 # evaluate on full 'valid' split every 30 epochs\n",
        "gobot_config['train']['log_every_n_batches'] = 5 # evaluate on full 'train' split every 5 batches\n",
        "\n",
        "train_model(gobot_config);"
      ],
      "metadata": {
        "id": "ibpuS0VgSRsY"
      },
      "execution_count": null,
      "outputs": []
    },
    {
      "cell_type": "code",
      "source": [
        "from deeppavlov import build_model\n",
        "\n",
        "bot = build_model(gobot_config)"
      ],
      "metadata": {
        "id": "QPswS7yMSUuK"
      },
      "execution_count": null,
      "outputs": []
    },
    {
      "cell_type": "code",
      "source": [
        "from deeppavlov.utils.telegram import interact_model_by_telegram\n",
        "\n",
        "interact_model_by_telegram(model_config=gobot_config, token='1153548935:AAFIZkbBaYKjzlpum6wVM6oTHviL4VYlPY8')"
      ],
      "metadata": {
        "id": "sVtwpvnMSoxj"
      },
      "execution_count": null,
      "outputs": []
    },
    {
      "cell_type": "code",
      "source": [],
      "metadata": {
        "id": "dXXRm3BJSUqg"
      },
      "execution_count": null,
      "outputs": []
    }
  ]
}